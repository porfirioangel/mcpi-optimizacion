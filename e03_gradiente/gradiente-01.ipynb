{
 "cells": [
  {
   "cell_type": "markdown",
   "id": "9428bdfb",
   "metadata": {},
   "source": [
    "# Gradiente y matriz hesiana"
   ]
  },
  {
   "cell_type": "markdown",
   "id": "4517a196",
   "metadata": {},
   "source": [
    "Encontrar gradiente y matriz hesiana para la función\n",
    "\n",
    "$f(x) = x_1^2 + 2x_1x_2 + 3x_2^2 + 4x_3^2 - 5x_2x_3$\n",
    "\n",
    "en el punto (1, 1, 1)\n",
    "\n",
    "---\n",
    "\n",
    "El gradiente está dado por\n",
    "\n",
    "$\\nabla f(x)= \\left[ \\begin{matrix} 2x_1+2x_2 \\\\ 2x_1+6x_2-5x_3 \\\\ 8x_3-5x_2 \\end{matrix} \\right]$\n",
    "\n",
    "La matriz hesiana está dada por\n",
    "\n",
    "$\\nabla H= \\left[ \\begin{matrix} 2 & 2 & 0 \\\\ 2 & 6 & -5 \\\\ 0 & -5 & 8 \\end{matrix} \\right]$"
   ]
  },
  {
   "cell_type": "code",
   "execution_count": 4,
   "id": "8fe59e18",
   "metadata": {},
   "outputs": [],
   "source": [
    "import numpy as np\n",
    "import matplotlib.pyplot as pl"
   ]
  },
  {
   "cell_type": "code",
   "execution_count": 5,
   "id": "585297e0",
   "metadata": {},
   "outputs": [],
   "source": [
    "f = lambda x: x[0] ** 2 + 2 * x[0] * x[1] + 3 * x[1] ** 2 + 4 * x[2] ** 2 - 5 * x[1] * x[2]\n",
    "\n",
    "def gradient(x, delta):\n",
    "    grad = np.zeros(3)\n",
    "    grad[0] = (f([x[0] + delta, x[1], x[2]]) - f([x[0] - delta, x[1], x[2]])) / (2 * delta)\n",
    "    grad[1] = (f([x[0], x[1] + delta, x[2]]) - f([x[0], x[1] - delta, x[2]])) / (2 * delta)\n",
    "    grad[2] = (f([x[0], x[1], x[2] + delta]) - f([x[0], x[1], x[2] - delta])) / (2 * delta)\n",
    "    return grad"
   ]
  },
  {
   "cell_type": "code",
   "execution_count": 6,
   "id": "3a3b00f8",
   "metadata": {},
   "outputs": [
    {
     "name": "stdout",
     "output_type": "stream",
     "text": [
      "f(x)= 5\n",
      "∇f(x)= [4. 3. 3.]\n",
      "H =  [[ 2.0000000e+00  2.0000000e+00 -4.4408921e-10]\n",
      " [ 2.0000000e+00  6.0000000e+00 -5.0000000e+00]\n",
      " [-4.4408921e-10 -5.0000000e+00  8.0000000e+00]]\n"
     ]
    }
   ],
   "source": [
    "x = np.array([1, 1, 1])\n",
    "print(\"f(x)=\", f(x))\n",
    "print(\"\\u2207f(x)=\", gradient(x, 1e-3))\n",
    "print(\"H = \", hessian(x, 1e-3))\n"
   ]
  }
 ],
 "metadata": {
  "interpreter": {
   "hash": "4655718913e1092f8a69c29ea1f081ca70781fe969b9ccc96843c43f043595bf"
  },
  "kernelspec": {
   "display_name": "Python 3",
   "language": "python",
   "name": "python3"
  },
  "language_info": {
   "codemirror_mode": {
    "name": "ipython",
    "version": 3
   },
   "file_extension": ".py",
   "mimetype": "text/x-python",
   "name": "python",
   "nbconvert_exporter": "python",
   "pygments_lexer": "ipython3",
   "version": "3.8.8"
  }
 },
 "nbformat": 4,
 "nbformat_minor": 5
}
