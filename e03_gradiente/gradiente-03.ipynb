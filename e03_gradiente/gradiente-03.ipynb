{
 "cells": [
  {
   "cell_type": "code",
   "execution_count": 35,
   "id": "ee5475bc-0ea7-439a-97bd-debdef3de545",
   "metadata": {},
   "outputs": [],
   "source": [
    "import numpy as np\n",
    "import matplotlib.pyplot as plt\n",
    "from mpl_toolkits.mplot3d import Axes3D\n",
    "from matplotlib import cm, colors\n",
    "%matplotlib qt"
   ]
  },
  {
   "cell_type": "markdown",
   "id": "e36e1dc1-5269-45a9-b46f-26aa93c0553d",
   "metadata": {},
   "source": [
    "Función a aproximar: $f(x) = 2 \\pi x_1 x_2 + 2 \\pi x_1^2$"
   ]
  },
  {
   "cell_type": "code",
   "execution_count": 36,
   "id": "fc1df8c3-a818-45c2-b21a-2527ec9148b4",
   "metadata": {},
   "outputs": [],
   "source": [
    "f = lambda  x1,x2 :2*np.pi*x1*x2 + 2*np.pi*x1**2\n",
    "fl = lambda  x1,x2 :520*np.pi*x1+160*np.pi*x2-28800*np.pi\n",
    "fc = lambda  x1,x2 :520*np.pi*x1+160*np.pi*x2-28800*np.pi + \\\n",
    "    0.5*(x1-80)*(4*np.pi*x1 + 2*np.pi*x2-520*np.pi)+(x1-100)*(2*np.pi*x1-160*np.pi)\n"
   ]
  },
  {
   "cell_type": "code",
   "execution_count": 37,
   "id": "89279ac3-5179-45c2-ac7c-bc877b844787",
   "metadata": {},
   "outputs": [],
   "source": [
    "x1 = np.linspace(0, 100, 100)\n",
    "x2 = np.linspace(0, 100, 100)\n",
    "xx1, xx2 = np.meshgrid(x1, x2)\n",
    "fx = f(xx1, xx2)\n",
    "fxl = fl(xx1, xx2)\n",
    "fxc = fc(xx1, xx2)"
   ]
  },
  {
   "cell_type": "code",
   "execution_count": 38,
   "id": "e09b0957-9c2a-4e82-8bd1-90e4e3de213f",
   "metadata": {},
   "outputs": [
    {
     "name": "stderr",
     "output_type": "stream",
     "text": [
      "/tmp/ipykernel_45736/2440986386.py:2: MatplotlibDeprecationWarning: Calling gca() with keyword arguments was deprecated in Matplotlib 3.4. Starting two minor releases later, gca() will take no keyword arguments. The gca() function should only be used to get the current axes, or if no axes exist, create new axes with default keyword arguments. To create a new axes with non-default arguments, use plt.axes() or plt.subplot().\n",
      "  ax = fig.gca(projection='3d')\n"
     ]
    },
    {
     "data": {
      "text/plain": [
       "<mpl_toolkits.mplot3d.art3d.Path3DCollection at 0x7fa998840730>"
      ]
     },
     "execution_count": 38,
     "metadata": {},
     "output_type": "execute_result"
    }
   ],
   "source": [
    "fig = plt.figure()\n",
    "ax = fig.gca(projection='3d')\n",
    "ax.plot_surface(xx1,xx2,fx, cmap=plt.cm.RdYlGn,\n",
    "                      linewidth=0, antialiased=False)\n",
    "cmap = colors.LinearSegmentedColormap.from_list(\"\", [\"black\",\"black\",\"black\"])\n",
    "ax.plot_surface(xx1, xx2, fxc, alpha = 0.5, rstride=1, cstride=1, cmap=cmap,linewidth=0.5, antialiased=True, zorder = 0.3)\n",
    "ax.scatter(80, 100 , f(80,100),s=50)"
   ]
  },
  {
   "cell_type": "markdown",
   "id": "b17121f6-a7a4-4f3f-bc31-7b94b7398982",
   "metadata": {},
   "source": [
    "Se analiza una función cuadrática o lineal en lugar de la función original, porque la cuadrática es convexa y estamos buscando el mínimo."
   ]
  }
 ],
 "metadata": {
  "kernelspec": {
   "display_name": "Python 3",
   "language": "python",
   "name": "python3"
  },
  "language_info": {
   "codemirror_mode": {
    "name": "ipython",
    "version": 3
   },
   "file_extension": ".py",
   "mimetype": "text/x-python",
   "name": "python",
   "nbconvert_exporter": "python",
   "pygments_lexer": "ipython3",
   "version": "3.8.8"
  }
 },
 "nbformat": 4,
 "nbformat_minor": 5
}
