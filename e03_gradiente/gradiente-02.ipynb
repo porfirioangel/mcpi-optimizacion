{
 "cells": [
  {
   "cell_type": "code",
   "execution_count": 19,
   "id": "34dd0436-4b93-417b-ba94-256419a9b406",
   "metadata": {},
   "outputs": [],
   "source": [
    "import numpy as np\n",
    "import matplotlib.pyplot as plt\n",
    "from mpl_toolkits.mplot3d import Axes3D\n",
    "from matplotlib import cm, colors\n",
    "%matplotlib qt"
   ]
  },
  {
   "cell_type": "code",
   "execution_count": 20,
   "id": "e2a99035-65b6-4a58-a2e5-49b692578075",
   "metadata": {},
   "outputs": [],
   "source": [
    "f = lambda  x1,x2 :2*np.pi*x1*x2 + 2*np.pi*x1**2\n",
    "fl = lambda  x1,x2 :520*np.pi*x1+160*np.pi*x2-28800*np.pi\n",
    "x1 = np.linspace(0, 100, 100)\n",
    "x2 = np.linspace(0, 100, 100)\n",
    "fx = np.zeros([100,100])\n",
    "fxl = fl(xx1, xx2)\n",
    "xx1, xx2 = np.meshgrid(x1, x2)"
   ]
  },
  {
   "cell_type": "code",
   "execution_count": 21,
   "id": "f781926e-7e2a-45bf-8ab9-f7a8447124f8",
   "metadata": {},
   "outputs": [
    {
     "name": "stderr",
     "output_type": "stream",
     "text": [
      "/tmp/ipykernel_45118/2837012564.py:2: MatplotlibDeprecationWarning: Calling gca() with keyword arguments was deprecated in Matplotlib 3.4. Starting two minor releases later, gca() will take no keyword arguments. The gca() function should only be used to get the current axes, or if no axes exist, create new axes with default keyword arguments. To create a new axes with non-default arguments, use plt.axes() or plt.subplot().\n",
      "  ax = fig.gca(projection='3d')\n"
     ]
    },
    {
     "data": {
      "text/plain": [
       "<mpl_toolkits.mplot3d.art3d.Poly3DCollection at 0x7fd2a26a8670>"
      ]
     },
     "execution_count": 21,
     "metadata": {},
     "output_type": "execute_result"
    }
   ],
   "source": [
    "fig = plt.figure()\n",
    "ax = fig.gca(projection='3d')\n",
    "ax.plot_surface(xx1,xx2,fx, cmap=plt.cm.RdYlGn,\n",
    "                      linewidth=0, antialiased=False)"
   ]
  },
  {
   "cell_type": "code",
   "execution_count": 22,
   "id": "9757df02-8414-4e60-a5db-40fa746d8ca7",
   "metadata": {},
   "outputs": [
    {
     "name": "stderr",
     "output_type": "stream",
     "text": [
      "/tmp/ipykernel_45118/3345253409.py:2: MatplotlibDeprecationWarning: Calling gca() with keyword arguments was deprecated in Matplotlib 3.4. Starting two minor releases later, gca() will take no keyword arguments. The gca() function should only be used to get the current axes, or if no axes exist, create new axes with default keyword arguments. To create a new axes with non-default arguments, use plt.axes() or plt.subplot().\n",
      "  ax = fig.gca(projection='3d')\n"
     ]
    },
    {
     "data": {
      "text/plain": [
       "<mpl_toolkits.mplot3d.art3d.Path3DCollection at 0x7fd2a1dc8bb0>"
      ]
     },
     "execution_count": 22,
     "metadata": {},
     "output_type": "execute_result"
    }
   ],
   "source": [
    "fig = plt.figure()\n",
    "ax = fig.gca(projection='3d')\n",
    "ax.plot_surface(xx1,xx2,fx, cmap=plt.cm.RdYlGn,\n",
    "                      linewidth=0, antialiased=False)\n",
    "\n",
    "cmap = colors.LinearSegmentedColormap.from_list(\"\", [\"black\",\"black\",\"black\"])\n",
    "\n",
    "ax.plot_surface(xx1, xx2, fxl, alpha = 0.5, rstride=1, cstride=1, cmap=cmap,linewidth=0.5, antialiased=True, zorder = 0.3)\n",
    "ax.scatter(80, 100 , f(80,100),s=50)"
   ]
  },
  {
   "cell_type": "code",
   "execution_count": null,
   "id": "d9d3080f-0974-4bc1-b907-ce0c3da6f4b6",
   "metadata": {},
   "outputs": [],
   "source": []
  }
 ],
 "metadata": {
  "kernelspec": {
   "display_name": "Python 3",
   "language": "python",
   "name": "python3"
  },
  "language_info": {
   "codemirror_mode": {
    "name": "ipython",
    "version": 3
   },
   "file_extension": ".py",
   "mimetype": "text/x-python",
   "name": "python",
   "nbconvert_exporter": "python",
   "pygments_lexer": "ipython3",
   "version": "3.8.8"
  }
 },
 "nbformat": 4,
 "nbformat_minor": 5
}
