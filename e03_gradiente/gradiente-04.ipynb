{
 "cells": [
  {
   "cell_type": "markdown",
   "id": "9adb9df5-c50d-45ab-b20e-23b494cce49d",
   "metadata": {},
   "source": [
    "Función a aproximar: $f(x) = 3 x_2 - \\frac{x_1}{x_2}$\n",
    "\n",
    "en el punto (2, 1)"
   ]
  },
  {
   "cell_type": "markdown",
   "id": "6eae1de6-af63-4920-bd24-e68ab2bfea85",
   "metadata": {},
   "source": [
    "Aproximación lineal\n",
    "\n",
    "$f(x) \\approx 5 x_2 - x_1 - 2$"
   ]
  },
  {
   "cell_type": "markdown",
   "id": "b2e5ade2-4b2e-4b84-af51-2c6b23f6474d",
   "metadata": {},
   "source": [
    "TERMINAR"
   ]
  }
 ],
 "metadata": {
  "kernelspec": {
   "display_name": "Python 3",
   "language": "python",
   "name": "python3"
  },
  "language_info": {
   "codemirror_mode": {
    "name": "ipython",
    "version": 3
   },
   "file_extension": ".py",
   "mimetype": "text/x-python",
   "name": "python",
   "nbconvert_exporter": "python",
   "pygments_lexer": "ipython3",
   "version": "3.8.8"
  }
 },
 "nbformat": 4,
 "nbformat_minor": 5
}
