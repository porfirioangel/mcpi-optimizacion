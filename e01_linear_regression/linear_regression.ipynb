{
 "cells": [
  {
   "cell_type": "markdown",
   "id": "2b47fe99",
   "metadata": {},
   "source": [
    "# Regresión Lineal"
   ]
  },
  {
   "cell_type": "markdown",
   "id": "224e3235",
   "metadata": {},
   "source": [
    "## Obtención de los datos"
   ]
  },
  {
   "cell_type": "code",
   "execution_count": 1,
   "id": "246cfe6d",
   "metadata": {},
   "outputs": [],
   "source": [
    "import pandas as pd\n",
    "import numpy as np\n",
    "import matplotlib.pyplot as plt"
   ]
  },
  {
   "cell_type": "code",
   "execution_count": 2,
   "id": "5d74ef35",
   "metadata": {},
   "outputs": [
    {
     "data": {
      "text/html": [
       "<div>\n",
       "<style scoped>\n",
       "    .dataframe tbody tr th:only-of-type {\n",
       "        vertical-align: middle;\n",
       "    }\n",
       "\n",
       "    .dataframe tbody tr th {\n",
       "        vertical-align: top;\n",
       "    }\n",
       "\n",
       "    .dataframe thead th {\n",
       "        text-align: right;\n",
       "    }\n",
       "</style>\n",
       "<table border=\"1\" class=\"dataframe\">\n",
       "  <thead>\n",
       "    <tr style=\"text-align: right;\">\n",
       "      <th></th>\n",
       "      <th>Id</th>\n",
       "      <th>SepalLengthCm</th>\n",
       "      <th>SepalWidthCm</th>\n",
       "      <th>PetalLengthCm</th>\n",
       "      <th>PetalWidthCm</th>\n",
       "      <th>Species</th>\n",
       "    </tr>\n",
       "  </thead>\n",
       "  <tbody>\n",
       "    <tr>\n",
       "      <th>0</th>\n",
       "      <td>1</td>\n",
       "      <td>5.1</td>\n",
       "      <td>3.5</td>\n",
       "      <td>1.4</td>\n",
       "      <td>0.2</td>\n",
       "      <td>Iris-setosa</td>\n",
       "    </tr>\n",
       "    <tr>\n",
       "      <th>1</th>\n",
       "      <td>2</td>\n",
       "      <td>4.9</td>\n",
       "      <td>3.0</td>\n",
       "      <td>1.4</td>\n",
       "      <td>0.2</td>\n",
       "      <td>Iris-setosa</td>\n",
       "    </tr>\n",
       "    <tr>\n",
       "      <th>2</th>\n",
       "      <td>3</td>\n",
       "      <td>4.7</td>\n",
       "      <td>3.2</td>\n",
       "      <td>1.3</td>\n",
       "      <td>0.2</td>\n",
       "      <td>Iris-setosa</td>\n",
       "    </tr>\n",
       "    <tr>\n",
       "      <th>3</th>\n",
       "      <td>4</td>\n",
       "      <td>4.6</td>\n",
       "      <td>3.1</td>\n",
       "      <td>1.5</td>\n",
       "      <td>0.2</td>\n",
       "      <td>Iris-setosa</td>\n",
       "    </tr>\n",
       "    <tr>\n",
       "      <th>4</th>\n",
       "      <td>5</td>\n",
       "      <td>5.0</td>\n",
       "      <td>3.6</td>\n",
       "      <td>1.4</td>\n",
       "      <td>0.2</td>\n",
       "      <td>Iris-setosa</td>\n",
       "    </tr>\n",
       "    <tr>\n",
       "      <th>5</th>\n",
       "      <td>6</td>\n",
       "      <td>5.4</td>\n",
       "      <td>3.9</td>\n",
       "      <td>1.7</td>\n",
       "      <td>0.4</td>\n",
       "      <td>Iris-setosa</td>\n",
       "    </tr>\n",
       "    <tr>\n",
       "      <th>6</th>\n",
       "      <td>7</td>\n",
       "      <td>4.6</td>\n",
       "      <td>3.4</td>\n",
       "      <td>1.4</td>\n",
       "      <td>0.3</td>\n",
       "      <td>Iris-setosa</td>\n",
       "    </tr>\n",
       "    <tr>\n",
       "      <th>7</th>\n",
       "      <td>8</td>\n",
       "      <td>5.0</td>\n",
       "      <td>3.4</td>\n",
       "      <td>1.5</td>\n",
       "      <td>0.2</td>\n",
       "      <td>Iris-setosa</td>\n",
       "    </tr>\n",
       "    <tr>\n",
       "      <th>8</th>\n",
       "      <td>9</td>\n",
       "      <td>4.4</td>\n",
       "      <td>2.9</td>\n",
       "      <td>1.4</td>\n",
       "      <td>0.2</td>\n",
       "      <td>Iris-setosa</td>\n",
       "    </tr>\n",
       "    <tr>\n",
       "      <th>9</th>\n",
       "      <td>10</td>\n",
       "      <td>4.9</td>\n",
       "      <td>3.1</td>\n",
       "      <td>1.5</td>\n",
       "      <td>0.1</td>\n",
       "      <td>Iris-setosa</td>\n",
       "    </tr>\n",
       "  </tbody>\n",
       "</table>\n",
       "</div>"
      ],
      "text/plain": [
       "   Id  SepalLengthCm  SepalWidthCm  PetalLengthCm  PetalWidthCm      Species\n",
       "0   1            5.1           3.5            1.4           0.2  Iris-setosa\n",
       "1   2            4.9           3.0            1.4           0.2  Iris-setosa\n",
       "2   3            4.7           3.2            1.3           0.2  Iris-setosa\n",
       "3   4            4.6           3.1            1.5           0.2  Iris-setosa\n",
       "4   5            5.0           3.6            1.4           0.2  Iris-setosa\n",
       "5   6            5.4           3.9            1.7           0.4  Iris-setosa\n",
       "6   7            4.6           3.4            1.4           0.3  Iris-setosa\n",
       "7   8            5.0           3.4            1.5           0.2  Iris-setosa\n",
       "8   9            4.4           2.9            1.4           0.2  Iris-setosa\n",
       "9  10            4.9           3.1            1.5           0.1  Iris-setosa"
      ]
     },
     "execution_count": 2,
     "metadata": {},
     "output_type": "execute_result"
    }
   ],
   "source": [
    "df = pd.read_csv('../datasets/Iris.csv')\n",
    "df.head(10)"
   ]
  },
  {
   "cell_type": "code",
   "execution_count": 3,
   "id": "7bcd72b6",
   "metadata": {},
   "outputs": [],
   "source": [
    "sepal_length = df['SepalLengthCm'].tolist()\n",
    "sepal_width = df['SepalWidthCm'].tolist()\n",
    "petal_length = df['PetalLengthCm'].tolist()\n",
    "petal_width = df['PetalWidthCm'].tolist()"
   ]
  },
  {
   "cell_type": "markdown",
   "id": "0b494356",
   "metadata": {},
   "source": [
    "## Definición del algoritmo"
   ]
  },
  {
   "cell_type": "code",
   "execution_count": 23,
   "id": "8b92270f",
   "metadata": {},
   "outputs": [],
   "source": [
    "def linear_regression(x, y, n, b_origen=False):\n",
    "    sum_x = sum_y = sum_xy = sum_x_squared = squared_of_sum_x = 0\n",
    "    \n",
    "    for i in range(n):\n",
    "        sum_x += x[i]\n",
    "        sum_y += y[i]\n",
    "        sum_xy += x[i] * y[i]\n",
    "        sum_x_squared += x[i] ** 2\n",
    "        \n",
    "    squared_of_sum_x = sum_x ** 2\n",
    "    \n",
    "    if b_origen:\n",
    "        a = (sum_xy) / (sum_x_squared)\n",
    "        b = 0\n",
    "    else:\n",
    "        a = ((n * sum_xy) - (sum_x * sum_y)) / ((n * sum_x_squared) - squared_of_sum_x)\n",
    "        b = ((sum_y * sum_x_squared) - (sum_x * sum_xy)) / ((n * sum_x_squared) - squared_of_sum_x)\n",
    "    \n",
    "    y_pred = []\n",
    "    x_new = [i for i in range(9)]\n",
    "    \n",
    "    for i in range(len(x_new)):\n",
    "        y_pred.append(a * x_new[i] + b)\n",
    "    \n",
    "    print(f'sum_x = {sum_x}')\n",
    "    print(f'sum_y = {sum_y}')\n",
    "    print(f'sum_xy = {sum_xy}')\n",
    "    print(f'sum_x_squared = {sum_x_squared}')\n",
    "    print(f'squared_of_sum_x = {squared_of_sum_x}')\n",
    "    print(f'a = {a}')\n",
    "    print(f'b = {b}')\n",
    "    \n",
    "    plt.scatter(x, y)\n",
    "    plt.plot(x_new, y_pred, 'r-')\n",
    "    plt.show()"
   ]
  },
  {
   "cell_type": "code",
   "execution_count": 27,
   "id": "a2dfdfe8",
   "metadata": {},
   "outputs": [],
   "source": [
    "n = df.shape[0]"
   ]
  },
  {
   "cell_type": "markdown",
   "id": "636fa99c",
   "metadata": {},
   "source": [
    "### Pasando por el origen"
   ]
  },
  {
   "cell_type": "code",
   "execution_count": 28,
   "id": "1751f0ff",
   "metadata": {},
   "outputs": [
    {
     "name": "stdout",
     "output_type": "stream",
     "text": [
      "sum_x = 876.5000000000002\n",
      "sum_y = 563.8000000000004\n",
      "sum_xy = 3484.2500000000014\n",
      "sum_x_squared = 5223.849999999998\n",
      "squared_of_sum_x = 768252.2500000003\n",
      "a = 0.666988906649311\n",
      "b = 0\n"
     ]
    },
    {
     "data": {
      "image/png": "[encoded data removed]",
      "text/plain": [
       "<Figure size 432x288 with 1 Axes>"
      ]
     },
     "metadata": {
      "needs_background": "light"
     },
     "output_type": "display_data"
    }
   ],
   "source": [
    "linear_regression(sepal_length, petal_length, n, b_origen=True)"
   ]
  },
  {
   "cell_type": "markdown",
   "id": "877be7dc",
   "metadata": {},
   "source": [
    "### Sin pasar por el origen"
   ]
  },
  {
   "cell_type": "code",
   "execution_count": 29,
   "id": "2f6ccff0",
   "metadata": {},
   "outputs": [
    {
     "name": "stdout",
     "output_type": "stream",
     "text": [
      "sum_x = 876.5000000000002\n",
      "sum_y = 563.8000000000004\n",
      "sum_xy = 3484.2500000000014\n",
      "sum_x_squared = 5223.849999999998\n",
      "squared_of_sum_x = 768252.2500000003\n",
      "a = 1.8575096654215137\n",
      "b = -7.095381478279702\n"
     ]
    },
    {
     "data": {
      "image/png": "[encoded data removed]",
      "text/plain": [
       "<Figure size 432x288 with 1 Axes>"
      ]
     },
     "metadata": {
      "needs_background": "light"
     },
     "output_type": "display_data"
    }
   ],
   "source": [
    "linear_regression(sepal_length, petal_length, n, b_origen=False)"
   ]
  }
 ],
 "metadata": {
  "kernelspec": {
   "display_name": "Python 3 (ipykernel)",
   "language": "python",
   "name": "python3"
  },
  "language_info": {
   "codemirror_mode": {
    "name": "ipython",
    "version": 3
   },
   "file_extension": ".py",
   "mimetype": "text/x-python",
   "name": "python",
   "nbconvert_exporter": "python",
   "pygments_lexer": "ipython3",
   "version": "3.9.6"
  }
 },
 "nbformat": 4,
 "nbformat_minor": 5
}
