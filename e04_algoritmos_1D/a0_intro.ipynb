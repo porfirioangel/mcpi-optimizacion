{
 "cells": [
  {
   "cell_type": "markdown",
   "id": "f292ed55-6e94-4dcd-b4e3-f54e0fbb717b",
   "metadata": {},
   "source": [
    "**<span style=\"font-size:xx-large\">ALGORITMOS DE OPTIMIZACIÓN 1D</span>**"
   ]
  },
  {
   "cell_type": "markdown",
   "id": "518d8794-c18a-491f-b8b3-bf13cf82b1b7",
   "metadata": {},
   "source": [
    "- Diseñados para optimizar funciones de una sola variable.\n",
    "- Aunque son raros de encontrar problemas de una variable, los algoritmos 1D son la base para los multivariable."
   ]
  },
  {
   "cell_type": "markdown",
   "id": "5d501335-cedc-4d91-bdef-0b823f376b11",
   "metadata": {},
   "source": [
    "# Problema de optimización"
   ]
  },
  {
   "cell_type": "markdown",
   "id": "e62bc0c3-d1a5-4b3e-b40c-602110704ba1",
   "metadata": {},
   "source": [
    "- El objetivo es encontrar la $x$ que resulte en la minimización de $f(x)$.\n",
    "- Si se restringe $x$ en el rango $a <= x <= b$, tenemos un problema de optimización **con restricción**.\n",
    "- Si $f(x)$ incrementa o decrementa continuamente entre los puntos $a$ y $b$, es una función **monótona**.\n",
    "- Si $f(x)$ es montónona a cada lado de su mínimo, es una función **unimodal**."
   ]
  },
  {
   "cell_type": "markdown",
   "id": "1b6a7168-e2e8-4fbf-a003-8ee48623ffe0",
   "metadata": {},
   "source": [
    "# Ejercicio"
   ]
  },
  {
   "cell_type": "markdown",
   "id": "6de81313-ba35-4e8d-949f-28cb323752c1",
   "metadata": {},
   "source": [
    "$$U = \\frac{204,165.5}{330 - 2T} + \\frac{10,400}{T - 20}$$"
   ]
  },
  {
   "cell_type": "markdown",
   "id": "d23057da-14c3-40b1-bdad-ce3bc5ebda83",
   "metadata": {},
   "source": [
    "La variable $T$ se restringe entre 40ºC y 90ºC. El costo mínimo ocurre en $T = 55.08$, el valor mínimo de la funcón $U$ es $1255.66$."
   ]
  }
 ],
 "metadata": {
  "kernelspec": {
   "display_name": "Python 3",
   "language": "python",
   "name": "python3"
  },
  "language_info": {
   "codemirror_mode": {
    "name": "ipython",
    "version": 3
   },
   "file_extension": ".py",
   "mimetype": "text/x-python",
   "name": "python",
   "nbconvert_exporter": "python",
   "pygments_lexer": "ipython3",
   "version": "3.7.10"
  }
 },
 "nbformat": 4,
 "nbformat_minor": 5
}
