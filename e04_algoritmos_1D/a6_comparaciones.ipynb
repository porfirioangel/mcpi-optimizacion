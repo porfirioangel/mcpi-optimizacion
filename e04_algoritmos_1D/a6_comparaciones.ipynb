{
 "cells": [
  {
   "cell_type": "markdown",
   "id": "3bb0e234-c8dd-4bef-9e58-41d3fd843acc",
   "metadata": {},
   "source": [
    "**<span style=\"font-size:xx-large\">COMPARACIONES ENTRE LOS MÉTODOS</span>**"
   ]
  },
  {
   "cell_type": "markdown",
   "id": "1e23dad6-5613-431c-9297-9de022fb9636",
   "metadata": {},
   "source": [
    "| Bisección |\n",
    "|---|\n",
    "| Tiempo transcurrido: 0.283480 ms. |\n",
    "| $x = 55.083313$ |\n",
    "| $f(x) = 1225.165637$ |\n",
    "| $f'(x) = 0.000181$ |\n",
    "| Iteraciones: 15 |\n",
    "\n",
    "| Newton Raphson |\n",
    "|---|\n",
    "| Tiempo transcurrido: 0.310183 ms. |\n",
    "| $x = 55.082486$ |\n",
    "| $f(x) = 1225.165637$ |\n",
    "| $f''(x) = 0.640505$ |\n",
    "| Iteraciones: 4 |\n",
    "\n",
    "| Secante |\n",
    "|---|\n",
    "| Tiempo transcurrido: 0.3743171691894531 ms. |\n",
    "| $\\alpha = 55.08384248436344$ |\n",
    "| $f(\\alpha) = 1225.1656369103005$ |\n",
    "| $f'(\\alpha) = 0.0005171357315703062$ |\n",
    "| Iteraciones: 15 |\n",
    "\n",
    "| Ajuste polinomial cúbico |\n",
    "|---|\n",
    "| Tiempo transcurrido: 0.39458274841308594 ms. |\n",
    "| $x = 55.08303549281446$ |\n",
    "| $z = 0.2868834418137236$ |\n",
    "| $w = 0.2884585370985788$ |\n",
    "| $\\mu = 0.0026650872109827786$ |\n",
    "| $f(x) = 1225.1656369562572$ |\n",
    "| Iteraciones: 4 |\n",
    "\n",
    "| Golden section  |\n",
    "|---|\n",
    "| Tiempo transcurrido: 0.2505779266357422 ms. |\n",
    "| $a = 55.055676610419255$ |\n",
    "| $b = 55.1516416220047$ |\n",
    "| $\\alpha_1 = 55.09232848277574$ |\n",
    "| $\\alpha_2 = 55.11498615442445$ |\n",
    "| $f(\\alpha_1) = 1225.16588346954$ |\n",
    "| $f(\\alpha_2) = 1225.1656614774304$ |\n",
    "| Iteraciones: 13 |"
   ]
  }
 ],
 "metadata": {
  "kernelspec": {
   "display_name": "Python 3",
   "language": "python",
   "name": "python3"
  },
  "language_info": {
   "codemirror_mode": {
    "name": "ipython",
    "version": 3
   },
   "file_extension": ".py",
   "mimetype": "text/x-python",
   "name": "python",
   "nbconvert_exporter": "python",
   "pygments_lexer": "ipython3",
   "version": "3.7.10"
  }
 },
 "nbformat": 4,
 "nbformat_minor": 5
}
