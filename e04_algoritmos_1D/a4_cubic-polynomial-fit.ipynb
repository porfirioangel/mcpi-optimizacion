{
 "cells": [
  {
   "cell_type": "markdown",
   "id": "58378aff-0108-4a45-8fa8-48d276e1cb36",
   "metadata": {},
   "source": [
    "**<span style=\"font-size:xx-large\">MÉTODO AJUSTE POLINOMIAL CÚBICO</span>**"
   ]
  },
  {
   "cell_type": "markdown",
   "id": "563adbbf-26bb-4fc9-aec9-71c91ba560b9",
   "metadata": {},
   "source": [
    "# Descripción"
   ]
  },
  {
   "cell_type": "markdown",
   "id": "2a1e7407-6712-43e4-92aa-f6faaf16661a",
   "metadata": {},
   "source": [
    "- La función $f(x)$ se minimiza usando un polinomio cúbico $P(x) = a_0 + a_1x + a_2x^2 + a_3x^3$"
   ]
  },
  {
   "cell_type": "markdown",
   "id": "49de00dd-9f68-4f87-8d22-7e5e90dfc4b8",
   "metadata": {},
   "source": [
    "# Pseudocódigo"
   ]
  },
  {
   "cell_type": "markdown",
   "id": "5a8511a8-a700-4e05-872e-f9697cc6cdd8",
   "metadata": {},
   "source": [
    "![polinomial-cubico](pseudo04.png \"Ajuste polinomial cúbico\")"
   ]
  },
  {
   "cell_type": "markdown",
   "id": "4724e0a9-54c8-4bb2-a89b-c1d0eee691fa",
   "metadata": {},
   "source": [
    "# Implementación"
   ]
  },
  {
   "cell_type": "code",
   "execution_count": 2,
   "id": "b4e9d68e-8b4e-49a6-90dc-58a2e62d270e",
   "metadata": {},
   "outputs": [],
   "source": [
    "from matplotlib import pyplot as plt\n",
    "from time import time\n",
    "import numpy as np"
   ]
  },
  {
   "cell_type": "code",
   "execution_count": 20,
   "id": "0274f668-8e63-4c08-bef6-fd01c802ebfe",
   "metadata": {},
   "outputs": [
    {
     "name": "stdout",
     "output_type": "stream",
     "text": [
      "Tiempo transcurrido: 0.6766319274902344 ms.\n",
      "a = 54.180090479693206\n",
      "b = 55.0854483504973\n",
      "z = 0.2868834418137236\n",
      "w = 0.2884585370985788\n",
      "miu = 0.0026650872109827786\n",
      "x = 55.08303549281446\n",
      "f'(a) = -0.5894356897897524\n",
      "f'(b) = 0.0015374339454865549\n",
      "f(x) = 1225.1656369562572\n",
      "Iteraciones: 4\n"
     ]
    }
   ],
   "source": [
    "# Función de costo del problema.\n",
    "f = lambda t: ((204_165.5) / (330 - 2 * t)) + (10_400 / (t - 20))\n",
    "\n",
    "# Definición de la derivada adelantada en un punto.\n",
    "dx = lambda x, delta_x: (f(x + delta_x) - f(x)) / delta_x\n",
    "\n",
    "# Restricciones de la variable t\n",
    "a = 40\n",
    "b = 90\n",
    "\n",
    "# Tolerancia\n",
    "epsilon = 0.001\n",
    "delta_x = epsilon\n",
    "\n",
    "# Registra tiempo de inicio del algoritmo.\n",
    "start_time = time()\n",
    "\n",
    "# Realiza las iteraciones del algoritmo\n",
    "for i in range(1, 5000):\n",
    "    fa = f(a)\n",
    "    fpa = dx(a, delta_x)\n",
    "    fb = f(b)\n",
    "    fpb = dx(b, delta_x)\n",
    "    z = 3 * (fa - fb) / (b - a) + fpa + fpb\n",
    "    w = ((b - a) / np.abs(b - a)) * np.sqrt(z * z - fpa * fpb)\n",
    "    miu = (fpb + w - z) / (fpb - fpa + 2 * w)\n",
    "\n",
    "    if miu > 0 and miu < 1:\n",
    "        x_min = b - miu * (b - a)\n",
    "    elif miu < 0:\n",
    "        x_min = b\n",
    "    else:\n",
    "        x_min = a\n",
    "        \n",
    "    fpx = dx(x_min, delta_x)\n",
    "\n",
    "    if abs(fpx) <  epsilon:\n",
    "        break\n",
    "    elif fpa * fpx < 0:\n",
    "        b = x_min\n",
    "    else:\n",
    "        a = x_min\n",
    "        \n",
    "# Registra tiempo de finalización del algoritmo.\n",
    "end_time = time()\n",
    "\n",
    "# Calcula tiempo transcurrido en milisegundos.\n",
    "elapsed_time = (end_time - start_time) * 1000\n",
    "\n",
    "print(f'Tiempo transcurrido: {elapsed_time} ms.')\n",
    "print(f'a = {a}')\n",
    "print(f'b = {b}')\n",
    "print(f'z = {z}')\n",
    "print(f'w = {w}')\n",
    "print(f'miu = {miu}')\n",
    "print(f'x = {x_min}')\n",
    "print(f\"f'(a) = {fpa}\")\n",
    "print(f\"f'(b) = {fpb}\")\n",
    "print(f\"f(x) = {f(x_min)}\")\n",
    "print(f'Iteraciones: {i}')"
   ]
  }
 ],
 "metadata": {
  "kernelspec": {
   "display_name": "Python 3",
   "language": "python",
   "name": "python3"
  },
  "language_info": {
   "codemirror_mode": {
    "name": "ipython",
    "version": 3
   },
   "file_extension": ".py",
   "mimetype": "text/x-python",
   "name": "python",
   "nbconvert_exporter": "python",
   "pygments_lexer": "ipython3",
   "version": "3.7.10"
  }
 },
 "nbformat": 4,
 "nbformat_minor": 5
}
