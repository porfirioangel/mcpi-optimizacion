{
 "cells": [
  {
   "cell_type": "markdown",
   "id": "c7936377-f547-4474-a242-73f0d057561b",
   "metadata": {},
   "source": [
    "**<span style=\"font-size:xx-large\">MÉTODO NEWTON-RAPHSON</span>**"
   ]
  },
  {
   "cell_type": "markdown",
   "id": "28751099-66ef-4665-a2e5-86bc1fe60cc0",
   "metadata": {},
   "source": [
    "# Descripción"
   ]
  },
  {
   "cell_type": "markdown",
   "id": "828d091a-47a1-40aa-84ca-5788ad2ba951",
   "metadata": {},
   "source": [
    "- Técnica para encontrar raices.\n",
    "- Evalúa la raíz de $f'(x) = 0$\n",
    "- La función $f'(x)$ se puede aproximar usando series de taylor con la ecuación $$f'(x_k) + f''(x_k) \\Delta x$$\n",
    "- Igualando la ecuación a cero, el siguiente punto de aproximación se da por $$x_{k+1} = x_k - \\frac{f'(x_k)}{f''(x_k)}$$"
   ]
  },
  {
   "cell_type": "markdown",
   "id": "9f713e1d-6b99-4bb5-90aa-4fe139233cf9",
   "metadata": {},
   "source": [
    "# Pseudocódigo"
   ]
  },
  {
   "cell_type": "markdown",
   "id": "d76bccd8-4987-4bda-b56a-f95e878ed4a4",
   "metadata": {},
   "source": [
    "![newton](pseudo02.png \"Newton-Raphson\")"
   ]
  },
  {
   "cell_type": "markdown",
   "id": "3d4d5d03-e608-404e-af8c-d00fcce9981c",
   "metadata": {},
   "source": [
    "# Implementación"
   ]
  },
  {
   "cell_type": "code",
   "execution_count": 2,
   "id": "90f399ee-8551-45d4-9d35-28af1c48e270",
   "metadata": {},
   "outputs": [],
   "source": [
    "from matplotlib import pyplot as plt\n",
    "from time import time\n",
    "import numpy as np"
   ]
  },
  {
   "cell_type": "code",
   "execution_count": 3,
   "id": "19747dc9-bfee-477d-a584-6912e1a8cce9",
   "metadata": {},
   "outputs": [
    {
     "name": "stdout",
     "output_type": "stream",
     "text": [
      "Tiempo transcurrido: 0.310183 ms.\n",
      "x: 55.082486\n",
      "fx: 1225.165637\n",
      "f'x: -0.086652\n",
      "f''x: 0.640505\n",
      "Iteraciones: 4\n"
     ]
    }
   ],
   "source": [
    "# Función de costo del problema.\n",
    "f_u = lambda t: ((204_165.5) / (330 - 2 * t)) + (10_400 / (t - 20))\n",
    "\n",
    "# Definición de la derivada adelantada en un punto.\n",
    "dx = lambda x, delta_x: (f_u(x + delta_x) - f_u(x)) / delta_x\n",
    "\n",
    "# Definición de la segunda derivada adelantada en un punto.\n",
    "ddx = lambda x, delta_x: (f_u(x + delta_x) - 2 * f_u(x) + f_u(x - delta_x)) / (delta_x ** 2)\n",
    "\n",
    "# Restricciones de la variable t\n",
    "a = 40\n",
    "b = 90\n",
    "\n",
    "# Tolerancia\n",
    "epsilon = 0.001\n",
    "delta_x = epsilon\n",
    "\n",
    "# Registra tiempo de inicio del algoritmo.\n",
    "start_time = time()\n",
    "\n",
    "# Define punto donde iniciará a buscar.\n",
    "x = a\n",
    "\n",
    "# Realiza las iteraciones del algoritmo\n",
    "for i in range(1, 5000):\n",
    "    fpx = dx(x, delta_x)\n",
    "    fppx = ddx(x, delta_x)\n",
    "    x_prev = x\n",
    "    x = x_prev - (fpx / fppx)\n",
    "    \n",
    "    if abs(dx(x, delta_x)) <= epsilon:\n",
    "        break\n",
    "        \n",
    "# Registra tiempo de finalización del algoritmo.\n",
    "end_time = time()\n",
    "\n",
    "# Calcula tiempo transcurrido en milisegundos.\n",
    "elapsed_time = (end_time - start_time) * 1000\n",
    "\n",
    "print(\"Tiempo transcurrido: %f ms.\" % elapsed_time )\n",
    "print(\"x: %f\" % x)\n",
    "print(\"fx: %f\" % f_u(x))\n",
    "print(\"f'x: %f\" % fpx)\n",
    "print(\"f''x: %f\" % fppx)\n",
    "print(\"Iteraciones: %d\" % i)"
   ]
  }
 ],
 "metadata": {
  "kernelspec": {
   "display_name": "Python 3",
   "language": "python",
   "name": "python3"
  },
  "language_info": {
   "codemirror_mode": {
    "name": "ipython",
    "version": 3
   },
   "file_extension": ".py",
   "mimetype": "text/x-python",
   "name": "python",
   "nbconvert_exporter": "python",
   "pygments_lexer": "ipython3",
   "version": "3.7.10"
  }
 },
 "nbformat": 4,
 "nbformat_minor": 5
}
