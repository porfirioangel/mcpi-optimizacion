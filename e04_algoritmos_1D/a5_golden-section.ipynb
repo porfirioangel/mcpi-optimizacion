{
 "cells": [
  {
   "cell_type": "markdown",
   "id": "766ca6be-67d7-4a16-b199-00d9c6f699f1",
   "metadata": {},
   "source": [
    "**<span style=\"font-size:xx-large\">MÉTODO GOLDEN SECTION</span>**"
   ]
  },
  {
   "cell_type": "markdown",
   "id": "859cc65a-1a01-4d01-adec-201990410b63",
   "metadata": {},
   "source": [
    "# Descripción"
   ]
  },
  {
   "cell_type": "markdown",
   "id": "2b9f50bf-c5fd-4ff6-9ebe-6837bde53bd2",
   "metadata": {},
   "source": [
    "- Utiliza el número golden, el cual es significante en la estética.\n",
    "- Elimina regiones basado solamente en la evaluación de funciones.\n",
    "- Solo se requiere una nueva evaluación de función en cada paso.\n",
    "- Hay un factor de reducción constante en cada paso."
   ]
  },
  {
   "cell_type": "markdown",
   "id": "0a8bf41d-9d83-443c-a59d-8810ec3c7f6d",
   "metadata": {},
   "source": [
    "# Pseudocódigo"
   ]
  },
  {
   "cell_type": "markdown",
   "id": "23706060-c7ba-4678-ac82-240b6db0db27",
   "metadata": {},
   "source": [
    "![golden](pseudo05.png \"Golden section\")"
   ]
  },
  {
   "cell_type": "markdown",
   "id": "fde35bb5-ba13-4c8e-bf35-bce6b5d73222",
   "metadata": {},
   "source": [
    "# Implementación"
   ]
  },
  {
   "cell_type": "code",
   "execution_count": 9,
   "id": "e393bf07-34b5-4941-b865-39e0a7a1a462",
   "metadata": {},
   "outputs": [],
   "source": [
    "from matplotlib import pyplot as plt\n",
    "from time import time\n",
    "import numpy as np"
   ]
  },
  {
   "cell_type": "code",
   "execution_count": 11,
   "id": "c13691c7-4b0f-40a5-8404-67e5c9f658d5",
   "metadata": {},
   "outputs": [
    {
     "name": "stdout",
     "output_type": "stream",
     "text": [
      "Tiempo transcurrido: 0.2505779266357422 ms.\n",
      "a = 55.055676610419255\n",
      "b = 55.1516416220047\n",
      "alpha1 = 55.09232848277574\n",
      "alpha2 = 55.11498615442445\n",
      "f(alpha1) = 1225.16588346954\n",
      "f(alpha2) = 1225.1656614774304\n",
      "Iteraciones: 13\n"
     ]
    }
   ],
   "source": [
    "# Función de costo del problema.\n",
    "f = lambda t: ((204_165.5) / (330 - 2 * t)) + (10_400 / (t - 20))\n",
    "\n",
    "# Definición de la derivada adelantada en un punto.\n",
    "dx = lambda x, delta_x: (f(x + delta_x) - f(x)) / delta_x\n",
    "\n",
    "# Restricciones de la variable t\n",
    "a = 40\n",
    "b = 90\n",
    "\n",
    "tau=0.381967\n",
    "\n",
    "# Tolerancia\n",
    "epsilon = 0.001\n",
    "delta_x = epsilon\n",
    "\n",
    "# Registra tiempo de inicio del algoritmo.\n",
    "start_time = time()\n",
    "\n",
    "alpha1 = a * (1 - tau) + b * tau\n",
    "alpha2 = a * tau + b * (1 - tau)\n",
    "\n",
    "# Realiza las iteraciones del algoritmo\n",
    "for i in range(1, 5000):\n",
    "    falpha1 = f(alpha1)\n",
    "    falpha2 = f(alpha2);\n",
    "    \n",
    "    if falpha1 > falpha2:\n",
    "        a = alpha1;\n",
    "        alpha1 = alpha2\n",
    "        alpha2 = a * tau + b * (1 - tau)\n",
    "    else:\n",
    "        b = alpha2;\n",
    "        alpha2 = alpha1\n",
    "        alpha1 = a * (1 - tau) + b * tau\n",
    "    \n",
    "    if abs(falpha1 - falpha2) < epsilon:\n",
    "        break\n",
    "\n",
    "# Registra tiempo de finalización del algoritmo.\n",
    "end_time = time()\n",
    "\n",
    "# Calcula tiempo transcurrido en milisegundos.\n",
    "elapsed_time = (end_time - start_time) * 1000\n",
    "\n",
    "print(f'Tiempo transcurrido: {elapsed_time} ms.')\n",
    "print(f'a = {a}')\n",
    "print(f'b = {b}')\n",
    "print(f'alpha1 = {alpha1}')\n",
    "print(f'alpha2 = {alpha2}')\n",
    "print(f'f(alpha1) = {falpha1}')\n",
    "print(f'f(alpha2) = {falpha2}')\n",
    "print(f'Iteraciones: {i}')"
   ]
  }
 ],
 "metadata": {
  "kernelspec": {
   "display_name": "Python 3",
   "language": "python",
   "name": "python3"
  },
  "language_info": {
   "codemirror_mode": {
    "name": "ipython",
    "version": 3
   },
   "file_extension": ".py",
   "mimetype": "text/x-python",
   "name": "python",
   "nbconvert_exporter": "python",
   "pygments_lexer": "ipython3",
   "version": "3.7.10"
  }
 },
 "nbformat": 4,
 "nbformat_minor": 5
}
